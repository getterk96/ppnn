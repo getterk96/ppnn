{
 "cells": [
  {
   "cell_type": "markdown",
   "metadata": {
    "toc": "true"
   },
   "source": [
    " # Table of Contents\n",
    "<div class=\"toc\" style=\"margin-top: 1em;\"><ul class=\"toc-item\" id=\"toc-level0\"><li><span><a href=\"http://localhost:8889/notebooks/python_data_handling.ipynb#1.-Reading-and-exploring-the-data\" data-toc-modified-id=\"1.-Reading-and-exploring-the-data-1\"><span class=\"toc-item-num\">1&nbsp;&nbsp;</span>1. Reading and exploring the data</a></span><ul class=\"toc-item\"><li><span><a href=\"http://localhost:8889/notebooks/python_data_handling.ipynb#1.1-Time\" data-toc-modified-id=\"1.1-Time-1.1\"><span class=\"toc-item-num\">1.1&nbsp;&nbsp;</span>1.1 Time</a></span></li><li><span><a href=\"http://localhost:8889/notebooks/python_data_handling.ipynb#1.2-Station-variables\" data-toc-modified-id=\"1.2-Station-variables-1.2\"><span class=\"toc-item-num\">1.2&nbsp;&nbsp;</span>1.2 Station variables</a></span></li><li><span><a href=\"http://localhost:8889/notebooks/python_data_handling.ipynb#1.3-Temperature-forecasts-and-observations\" data-toc-modified-id=\"1.3-Temperature-forecasts-and-observations-1.3\"><span class=\"toc-item-num\">1.3&nbsp;&nbsp;</span>1.3 Temperature forecasts and observations</a></span></li></ul></li><li><span><a href=\"http://localhost:8889/notebooks/python_data_handling.ipynb#2.-Slicing-the-data\" data-toc-modified-id=\"2.-Slicing-the-data-2\"><span class=\"toc-item-num\">2&nbsp;&nbsp;</span>2. Slicing the data</a></span><ul class=\"toc-item\"><li><span><a href=\"http://localhost:8889/notebooks/python_data_handling.ipynb#2.1-Monthly-slices\" data-toc-modified-id=\"2.1-Monthly-slices-2.1\"><span class=\"toc-item-num\">2.1&nbsp;&nbsp;</span>2.1 Monthly slices</a></span></li></ul></li><li><span><a href=\"http://localhost:8889/notebooks/python_data_handling.ipynb#3.-Compute-the-parametric-and-sample-CRPS-for-the-raw-ensemble-data\" data-toc-modified-id=\"3.-Compute-the-parametric-and-sample-CRPS-for-the-raw-ensemble-data-3\"><span class=\"toc-item-num\">3&nbsp;&nbsp;</span>3. Compute the parametric and sample CRPS for the raw ensemble data</a></span><ul class=\"toc-item\"><li><span><a href=\"http://localhost:8889/notebooks/python_data_handling.ipynb#3.1-CRPS-for-a-normal-distribution\" data-toc-modified-id=\"3.1-CRPS-for-a-normal-distribution-3.1\"><span class=\"toc-item-num\">3.1&nbsp;&nbsp;</span>3.1 CRPS for a normal distribution</a></span></li><li><span><a href=\"http://localhost:8889/notebooks/python_data_handling.ipynb#3.2-Sample-CRPS\" data-toc-modified-id=\"3.2-Sample-CRPS-3.2\"><span class=\"toc-item-num\">3.2&nbsp;&nbsp;</span>3.2 Sample CRPS</a></span></li></ul></li></ul></div>"
   ]
  },
  {
   "cell_type": "markdown",
   "metadata": {},
   "source": [
    "# Reading the netCDF files in Python\n",
    "\n",
    "*Note: This notebook uses Python 3.*\n",
    "\n",
    "In this notebook we will explore the interpolated dataset and test some basic python functions.\n",
    "\n",
    "**Contents**\n",
    "1. Reading and exploring the data\n",
    "2. Slicing the data (to do)\n",
    "3. Computing the CRPS from the raw ensemble (to do)\n",
    "\n",
    "## 1. Reading and exploring the data\n",
    "\n",
    "Let's start by opening the file and checking out what data it contains."
   ]
  },
  {
   "cell_type": "code",
   "execution_count": 1,
   "metadata": {
    "collapsed": true
   },
   "outputs": [],
   "source": [
    "from netCDF4 import Dataset\n",
    "# Define directory where interpolated files are stored.\n",
    "DATA_DIR = '/data/gaojinghan/EC_esemble/temperature2m/'   # At LMU\n",
    "# DATA_DIR = '/Users/stephanrasp/repositories/ppnn/data/'  # Mac\n",
    "# Define file name\n",
    "fn = 'MD_ECMF_PD_temperature2m_IT_2019041600_FH_132_VT_2019042112.nc'"
   ]
  },
  {
   "cell_type": "code",
   "execution_count": 2,
   "metadata": {
    "collapsed": true
   },
   "outputs": [],
   "source": [
    "# Open NetCDF rootgroup \n",
    "rg = Dataset(DATA_DIR + fn)"
   ]
  },
  {
   "cell_type": "code",
   "execution_count": 3,
   "metadata": {},
   "outputs": [
    {
     "data": {
      "text/plain": [
       "<class 'netCDF4._netCDF4.Dataset'>\n",
       "root group (NETCDF4 data model, file format HDF5):\n",
       "    dimensions(sizes): station(537), member(50), time(7306), nchar(36)\n",
       "    variables(dimensions): int32 \u001b[4mstation\u001b[0m(station), int32 \u001b[4mmember\u001b[0m(member), int32 \u001b[4mtime\u001b[0m(time), float32 \u001b[4mt2m_fc\u001b[0m(time,member,station), float32 \u001b[4mt2m_obs\u001b[0m(time,station), float32 \u001b[4mstation_alt\u001b[0m(station), float32 \u001b[4mstation_lat\u001b[0m(station), float32 \u001b[4mstation_lon\u001b[0m(station), float32 \u001b[4mstation_id\u001b[0m(station), |S1 \u001b[4mstation_loc\u001b[0m(station,nchar)\n",
       "    groups: "
      ]
     },
     "execution_count": 3,
     "metadata": {},
     "output_type": "execute_result"
    }
   ],
   "source": [
    "# What does the NetCDF file contain?\n",
    "rg"
   ]
  },
  {
   "cell_type": "markdown",
   "metadata": {},
   "source": [
    "Here is what's in the file:\n",
    "- 4 dimensions: station, member, time and nchar\n",
    "- Variables:\n",
    "    - station(station) == station_id\n",
    "    - member(member)\n",
    "    - time(time) *Time in s since 1.1.1970*\n",
    "    - t2m_fc(time, member, station)\n",
    "    - t2m_obs(time, station)\n",
    "    - station_alt(station) *Altitute of station in m*\n",
    "    - station_lat(station) *Latitude in degrees*\n",
    "    - station_lon(station)  *Longitude in degrees*\n",
    "    - station_id(station) == station\n",
    "    - station_loc(station, nchar)  *Location name*\n",
    "\n",
    "So how much training data do we have?"
   ]
  },
  {
   "cell_type": "code",
   "execution_count": 4,
   "metadata": {},
   "outputs": [
    {
     "data": {
      "text/plain": [
       "1961661.0"
      ]
     },
     "execution_count": 4,
     "metadata": {},
     "output_type": "execute_result"
    }
   ],
   "source": [
    "# Total amount of data\n",
    "rg.dimensions['station'].size * rg.dimensions['time'].size / 2"
   ]
  },
  {
   "cell_type": "code",
   "execution_count": 5,
   "metadata": {},
   "outputs": [
    {
     "data": {
      "text/plain": [
       "163471.75"
      ]
     },
     "execution_count": 5,
     "metadata": {},
     "output_type": "execute_result"
    }
   ],
   "source": [
    "# Rough data amount per month\n",
    "rg.dimensions['station'].size * rg.dimensions['time'].size / 2 / 12."
   ]
  },
  {
   "cell_type": "code",
   "execution_count": 6,
   "metadata": {},
   "outputs": [
    {
     "data": {
      "text/plain": [
       "304.4166666666667"
      ]
     },
     "execution_count": 6,
     "metadata": {},
     "output_type": "execute_result"
    }
   ],
   "source": [
    "# Per station per month\n",
    "rg.dimensions['time'].size / 2 / 12."
   ]
  },
  {
   "cell_type": "markdown",
   "metadata": {},
   "source": [
    "Ok, let's now look at some of the variables.\n",
    "\n",
    "### 1.1 Time"
   ]
  },
  {
   "cell_type": "code",
   "execution_count": 7,
   "metadata": {},
   "outputs": [
    {
     "data": {
      "text/plain": [
       "<class 'netCDF4._netCDF4.Variable'>\n",
       "int32 time(time)\n",
       "    units: hours since 1970-01-01 00:00 UTC\n",
       "    long_name: valid time of forecasts and observations, UTC\n",
       "unlimited dimensions: \n",
       "current shape = (7306,)\n",
       "filling on, default _FillValue of -2147483647 used"
      ]
     },
     "execution_count": 7,
     "metadata": {},
     "output_type": "execute_result"
    }
   ],
   "source": [
    "time = rg.variables['time']\n",
    "time"
   ]
  },
  {
   "cell_type": "code",
   "execution_count": 8,
   "metadata": {},
   "outputs": [
    {
     "data": {
      "text/plain": [
       "array([1167739200, 1167782400, 1167825600, 1167868800, 1167912000], dtype=int32)"
      ]
     },
     "execution_count": 8,
     "metadata": {},
     "output_type": "execute_result"
    }
   ],
   "source": [
    "time[:5]"
   ]
  },
  {
   "cell_type": "markdown",
   "metadata": {},
   "source": [
    "In fact, the time is given in seconds rather than hours."
   ]
  },
  {
   "cell_type": "code",
   "execution_count": 9,
   "metadata": {},
   "outputs": [
    {
     "data": {
      "text/plain": [
       "array([datetime.datetime(2007, 1, 2, 12, 0),\n",
       "       datetime.datetime(2007, 1, 3, 0, 0),\n",
       "       datetime.datetime(2007, 1, 3, 12, 0),\n",
       "       datetime.datetime(2007, 1, 4, 0, 0),\n",
       "       datetime.datetime(2007, 1, 4, 12, 0)], dtype=object)"
      ]
     },
     "execution_count": 9,
     "metadata": {},
     "output_type": "execute_result"
    }
   ],
   "source": [
    "# convert back to dates (http://unidata.github.io/netcdf4-python/#section7)\n",
    "from netCDF4 import num2date\n",
    "dates = num2date(time[:],units='seconds since 1970-01-01 00:00 UTC')\n",
    "dates[:5]"
   ]
  },
  {
   "cell_type": "markdown",
   "metadata": {},
   "source": [
    "So dates are in 12 hour intervals. Which means that since we downloaded 36/48h forecasts: the 12UTC dates correspond to the 36 hour fcs and the following 00UTC dates correspond to the same forecast at 48 hour lead time.\n",
    "\n",
    "### 1.2 Station variables\n",
    "\n",
    "Station and station ID are in fact the same and simply contain a number, which does not start at one and is not continuous."
   ]
  },
  {
   "cell_type": "code",
   "execution_count": 10,
   "metadata": {},
   "outputs": [
    {
     "data": {
      "text/plain": [
       "True"
      ]
     },
     "execution_count": 10,
     "metadata": {},
     "output_type": "execute_result"
    }
   ],
   "source": [
    "import numpy as np\n",
    "# Check whether the two variables are equal\n",
    "np.array_equal(rg.variables['station'][:], rg.variables['station_id'][:])"
   ]
  },
  {
   "cell_type": "code",
   "execution_count": 11,
   "metadata": {},
   "outputs": [
    {
     "data": {
      "text/plain": [
       "array([ 3, 44, 71, 73, 78], dtype=int32)"
      ]
     },
     "execution_count": 11,
     "metadata": {},
     "output_type": "execute_result"
    }
   ],
   "source": [
    "# Then just print the first 5\n",
    "rg.variables['station'][:5]"
   ]
  },
  {
   "cell_type": "markdown",
   "metadata": {},
   "source": [
    "station_alt contains the station altitude in meters."
   ]
  },
  {
   "cell_type": "code",
   "execution_count": 12,
   "metadata": {},
   "outputs": [
    {
     "data": {
      "text/plain": [
       "masked_array(data = [202.0 44.0 759.0 340.0 65.0],\n",
       "             mask = [False False False False False],\n",
       "       fill_value = nan)"
      ]
     },
     "execution_count": 12,
     "metadata": {},
     "output_type": "execute_result"
    }
   ],
   "source": [
    "rg.variables['station_alt'][:5]"
   ]
  },
  {
   "cell_type": "code",
   "execution_count": 13,
   "metadata": {},
   "outputs": [
    {
     "data": {
      "text/plain": [
       "array([b'A', b'a', b'c', b'h', b'e', b'n', b'', b'', b'', b'', b'', b'',\n",
       "       b'', b'', b'', b'', b'', b'', b'', b'', b'', b'', b'', b'', b'',\n",
       "       b'', b'', b'', b'', b'', b'', b'', b'', b'', b'', b''],\n",
       "      dtype='|S1')"
      ]
     },
     "execution_count": 13,
     "metadata": {},
     "output_type": "execute_result"
    }
   ],
   "source": [
    "rg.variables['station_loc'][0].data"
   ]
  },
  {
   "cell_type": "markdown",
   "metadata": {},
   "source": [
    "Ahhhh, Aachen :D\n",
    "So this leads me to believe that the station numbering is done by name."
   ]
  },
  {
   "cell_type": "code",
   "execution_count": 14,
   "metadata": {
    "collapsed": true
   },
   "outputs": [],
   "source": [
    "station_lon = rg.variables['station_lon']\n",
    "station_lat = rg.variables['station_lat']"
   ]
  },
  {
   "cell_type": "code",
   "execution_count": 15,
   "metadata": {
    "collapsed": true
   },
   "outputs": [],
   "source": [
    "import matplotlib\n",
    "%matplotlib inline\n",
    "import matplotlib.pyplot as plt"
   ]
  },
  {
   "cell_type": "code",
   "execution_count": 16,
   "metadata": {},
   "outputs": [
    {
     "data": {
      "text/plain": [
       "<matplotlib.collections.PathCollection at 0x7f97b08db400>"
      ]
     },
     "execution_count": 16,
     "metadata": {},
     "output_type": "execute_result"
    },
    {
     "name": "stderr",
     "output_type": "stream",
     "text": [
      "/home/s/S.Rasp/.conda/envs/py36/lib/python3.6/site-packages/matplotlib/font_manager.py:280: UserWarning: Matplotlib is building the font cache using fc-list. This may take a moment.\n",
      "  'Matplotlib is building the font cache using fc-list. '\n"
     ]
    },
    {
     "data": {
      "image/png": "[encoded data removed]",
      "text/plain": [
       "<matplotlib.figure.Figure at 0x7f97b56267f0>"
      ]
     },
     "metadata": {},
     "output_type": "display_data"
    }
   ],
   "source": [
    "plt.scatter(station_lon[:], station_lat[:])"
   ]
  },
  {
   "cell_type": "markdown",
   "metadata": {},
   "source": [
    "Wohooo, Germany!"
   ]
  },
  {
   "cell_type": "markdown",
   "metadata": {},
   "source": [
    "### 1.3 Temperature forecasts and observations\n",
    "\n",
    "Ok, so now let's explore the temperature data a little."
   ]
  },
  {
   "cell_type": "code",
   "execution_count": 17,
   "metadata": {
    "collapsed": true
   },
   "outputs": [],
   "source": [
    "# Let's extract the actual data from the NetCDF array\n",
    "# Then we can manipulate it later.\n",
    "tfc = rg.variables['t2m_fc'][:]\n",
    "tobs = rg.variables['t2m_obs'][:]"
   ]
  },
  {
   "cell_type": "code",
   "execution_count": 18,
   "metadata": {},
   "outputs": [
    {
     "data": {
      "text/plain": [
       "array([[ 5.4000001 ,         nan,         nan,         nan,  5.5999999 ],\n",
       "       [ 5.5       ,         nan,         nan,         nan,  2.9000001 ],\n",
       "       [ 6.5999999 ,         nan,         nan,         nan,  5.9000001 ],\n",
       "       [ 7.19999981,         nan,         nan,         nan,  7.69999981],\n",
       "       [ 8.80000019,         nan,         nan,         nan,  8.5       ]], dtype=float32)"
      ]
     },
     "execution_count": 18,
     "metadata": {},
     "output_type": "execute_result"
    }
   ],
   "source": [
    "tobs[:5, :5].data"
   ]
  },
  {
   "cell_type": "markdown",
   "metadata": {},
   "source": [
    "So there are actually missing data in the observations. We will need to think about how to deal with those.\n",
    "\n",
    "Sebastian mentioned that in the current version there is some Celcius/Kelvin inconsistencies."
   ]
  },
  {
   "cell_type": "code",
   "execution_count": 19,
   "metadata": {},
   "outputs": [
    {
     "data": {
      "text/plain": [
       "[<matplotlib.lines.Line2D at 0x7f97abf0b080>]"
      ]
     },
     "execution_count": 19,
     "metadata": {},
     "output_type": "execute_result"
    },
    {
     "data": {
      "image/png": "[encoded data removed]",
      "text/plain": [
       "<matplotlib.figure.Figure at 0x7f97b4345240>"
      ]
     },
     "metadata": {},
     "output_type": "display_data"
    }
   ],
   "source": [
    "plt.plot(np.mean(tfc, axis=(1, 2)))"
   ]
  },
  {
   "cell_type": "code",
   "execution_count": 20,
   "metadata": {
    "collapsed": true
   },
   "outputs": [],
   "source": [
    "# Since this will be fixed soon, let's just create a little ad hoc fix\n",
    "idx = np.where(np.mean(tfc, axis=(1, 2)) > 100)[0][0]\n",
    "tfc[idx:] = tfc[idx:] - 273.15"
   ]
  },
  {
   "cell_type": "code",
   "execution_count": 21,
   "metadata": {
    "collapsed": true
   },
   "outputs": [],
   "source": [
    "# Let's create a little function to visualize the ensemble forecast\n",
    "# and the corresponding observation\n",
    "def plot_fc_obs_hist(t, s):\n",
    "    plt.hist(tfc[t, :, s])\n",
    "    plt.axvline(tobs[t, s], c='r')\n",
    "    plt.title(num2date(time[t], units='seconds since 1970-01-01 00:00 UTC'))\n",
    "    plt.show()"
   ]
  },
  {
   "cell_type": "code",
   "execution_count": 22,
   "metadata": {},
   "outputs": [
    {
     "data": {
      "image/png": "[encoded data removed]",
      "text/plain": [
       "<matplotlib.figure.Figure at 0x7f97abbab4e0>"
      ]
     },
     "metadata": {},
     "output_type": "display_data"
    },
    {
     "data": {
      "image/png": "[encoded data removed]",
      "text/plain": [
       "<matplotlib.figure.Figure at 0x7f97abb04198>"
      ]
     },
     "metadata": {},
     "output_type": "display_data"
    },
    {
     "data": {
      "image/png": "[encoded data removed]",
      "text/plain": [
       "<matplotlib.figure.Figure at 0x7f97abeac1d0>"
      ]
     },
     "metadata": {},
     "output_type": "display_data"
    }
   ],
   "source": [
    "# Now let's plot some forecast for random time steps and stations\n",
    "plot_fc_obs_hist(0, 0)\n",
    "plot_fc_obs_hist(100, 100)\n",
    "plot_fc_obs_hist(1000, 200)"
   ]
  },
  {
   "cell_type": "markdown",
   "metadata": {
    "collapsed": true
   },
   "source": [
    "## 2. Slicing the data\n",
    "\n",
    "Now let's see how we can conveniently prepare the data in chunks for the post-processing purposes.\n",
    "\n",
    "### 2.1 Monthly slices\n",
    "\n",
    "The goal here is to pick all data points from a given month and also for a given time, so 00 or 12 UTC"
   ]
  },
  {
   "cell_type": "code",
   "execution_count": 23,
   "metadata": {
    "collapsed": true
   },
   "outputs": [],
   "source": [
    "# Let's write a handy function which returns the required data\n",
    "# from the NetCDF object\n",
    "def get_data_slice(rg, month, utc=0):\n",
    "    # Get array of datetime objects\n",
    "    dates = num2date(rg.variables['time'][:],\n",
    "                     units='seconds since 1970-01-01 00:00 UTC')\n",
    "    # Extract months and hours\n",
    "    months = np.array([d.month for d in list(dates)])\n",
    "    hours = np.array([d.hour for d in list(dates)])\n",
    "    \n",
    "    # for now I need to include the Kelvin fix\n",
    "    tfc = rg.variables['t2m_fc'][:]\n",
    "    idx = np.where(np.mean(tfc, axis=(1, 2)) > 100)[0][0]\n",
    "    tfc[idx:] = tfc[idx:] - 273.15\n",
    "    \n",
    "    # Extract the requested data\n",
    "    tobs = rg.variables['t2m_obs'][(months == 1) & (hours == 0)]\n",
    "    tfc = tfc[(months == 1) & (hours == 0)]\n",
    "    return tobs, tfc"
   ]
  },
  {
   "cell_type": "code",
   "execution_count": 24,
   "metadata": {
    "collapsed": true
   },
   "outputs": [],
   "source": [
    "tobs_jan_00, tfc_jan_00 = get_data_slice(rg, 1, 0)"
   ]
  },
  {
   "cell_type": "code",
   "execution_count": 25,
   "metadata": {},
   "outputs": [
    {
     "data": {
      "text/plain": [
       "(310, 50, 537)"
      ]
     },
     "execution_count": 25,
     "metadata": {},
     "output_type": "execute_result"
    }
   ],
   "source": [
    "tfc_jan_00.shape"
   ]
  },
  {
   "cell_type": "markdown",
   "metadata": {},
   "source": [
    "## 3. Compute the parametric and sample CRPS for the raw ensemble data\n",
    "\n",
    "### 3.1 CRPS for a normal distribution\n",
    "\n",
    "From Gneiting et al. 2005, EMOS: \n",
    "\n",
    "![title](crps_normal.png)\n"
   ]
  },
  {
   "cell_type": "code",
   "execution_count": 26,
   "metadata": {
    "collapsed": true
   },
   "outputs": [],
   "source": [
    "from scipy.stats import norm"
   ]
  },
  {
   "cell_type": "code",
   "execution_count": 27,
   "metadata": {
    "collapsed": true
   },
   "outputs": [],
   "source": [
    "def crps_normal(mu, sigma, y):\n",
    "    loc = (y - mu) / sigma\n",
    "    crps = sigma * (loc * (2 * norm.cdf(loc) - 1) + \n",
    "                    2 * norm.pdf(loc) - 1. / np.sqrt(np.pi))\n",
    "    return crps"
   ]
  },
  {
   "cell_type": "code",
   "execution_count": 28,
   "metadata": {
    "collapsed": true
   },
   "outputs": [],
   "source": [
    "# Get ensmean and ensstd\n",
    "tfc_jan_00_mean = np.mean(tfc_jan_00, axis=1)\n",
    "tfc_jan_00_std = np.std(tfc_jan_00, axis=1, ddof=1)"
   ]
  },
  {
   "cell_type": "code",
   "execution_count": 29,
   "metadata": {},
   "outputs": [
    {
     "name": "stderr",
     "output_type": "stream",
     "text": [
      "/home/s/S.Rasp/.conda/envs/py36/lib/python3.6/site-packages/scipy/stats/_distn_infrastructure.py:879: RuntimeWarning: invalid value encountered in greater\n",
      "  return (self.a < x) & (x < self.b)\n",
      "/home/s/S.Rasp/.conda/envs/py36/lib/python3.6/site-packages/scipy/stats/_distn_infrastructure.py:879: RuntimeWarning: invalid value encountered in less\n",
      "  return (self.a < x) & (x < self.b)\n",
      "/home/s/S.Rasp/.conda/envs/py36/lib/python3.6/site-packages/scipy/stats/_distn_infrastructure.py:1735: RuntimeWarning: invalid value encountered in greater_equal\n",
      "  cond2 = (x >= self.b) & cond0\n",
      "/home/s/S.Rasp/.conda/envs/py36/lib/python3.6/site-packages/scipy/stats/_distn_infrastructure.py:876: RuntimeWarning: invalid value encountered in greater_equal\n",
      "  return (self.a <= x) & (x <= self.b)\n",
      "/home/s/S.Rasp/.conda/envs/py36/lib/python3.6/site-packages/scipy/stats/_distn_infrastructure.py:876: RuntimeWarning: invalid value encountered in less_equal\n",
      "  return (self.a <= x) & (x <= self.b)\n"
     ]
    }
   ],
   "source": [
    "# Compute CRPS using the ensemble mean and variance\n",
    "crps_jan_00 = crps_normal(tfc_jan_00_mean, tfc_jan_00_std, tobs_jan_00)"
   ]
  },
  {
   "cell_type": "code",
   "execution_count": 30,
   "metadata": {},
   "outputs": [
    {
     "data": {
      "text/plain": [
       "1.3547776009326298"
      ]
     },
     "execution_count": 30,
     "metadata": {},
     "output_type": "execute_result"
    }
   ],
   "source": [
    "# Wanrings probably doe to missing values\n",
    "crps_jan_00.mean()"
   ]
  },
  {
   "cell_type": "markdown",
   "metadata": {},
   "source": [
    "Nice, this corresponds well to the value sebastian got for the raw ensemble in January."
   ]
  },
  {
   "cell_type": "markdown",
   "metadata": {
    "collapsed": true
   },
   "source": [
    "### 3.2 Sample CRPS\n",
    "\n",
    "For this we use the scoringRules package inside enstools."
   ]
  },
  {
   "cell_type": "code",
   "execution_count": 9,
   "metadata": {},
   "outputs": [],
   "source": [
    "import sys\n",
    "sys.path.append('/Users/stephanrasp/repositories/enstools')\n",
    "from enstools.scores.ScoringRules2Py.scoringtools import "
   ]
  },
  {
   "cell_type": "code",
   "execution_count": 32,
   "metadata": {
    "collapsed": true
   },
   "outputs": [],
   "source": [
    "??enstools.scores.crps_sample"
   ]
  },
  {
   "cell_type": "code",
   "execution_count": 33,
   "metadata": {},
   "outputs": [
    {
     "data": {
      "text/plain": [
       "(310, 50, 537)"
      ]
     },
     "execution_count": 33,
     "metadata": {},
     "output_type": "execute_result"
    }
   ],
   "source": [
    "tfc_jan_00.shape"
   ]
  },
  {
   "cell_type": "code",
   "execution_count": 36,
   "metadata": {},
   "outputs": [
    {
     "data": {
      "text/plain": [
       "(310, 537)"
      ]
     },
     "execution_count": 36,
     "metadata": {},
     "output_type": "execute_result"
    }
   ],
   "source": [
    "tobs_jan_00.shape"
   ]
  },
  {
   "cell_type": "code",
   "execution_count": 52,
   "metadata": {},
   "outputs": [
    {
     "data": {
      "text/plain": [
       "(50, 310, 537)"
      ]
     },
     "execution_count": 52,
     "metadata": {},
     "output_type": "execute_result"
    }
   ],
   "source": [
    "tfc_jan_00_flat = np.rollaxis(tfc_jan_00, 1, 0)\n",
    "tfc_jan_00_flat.shape"
   ]
  },
  {
   "cell_type": "code",
   "execution_count": 53,
   "metadata": {},
   "outputs": [
    {
     "data": {
      "text/plain": [
       "(50, 166470)"
      ]
     },
     "execution_count": 53,
     "metadata": {},
     "output_type": "execute_result"
    }
   ],
   "source": [
    "tfc_jan_00_flat = tfc_jan_00_flat.reshape(tfc_jan_00_flat.shape[0], -1)\n",
    "tfc_jan_00_flat.shape"
   ]
  },
  {
   "cell_type": "code",
   "execution_count": 54,
   "metadata": {
    "collapsed": true
   },
   "outputs": [],
   "source": [
    "tobs_jan_00_flat = tobs_jan_00.ravel()"
   ]
  },
  {
   "cell_type": "code",
   "execution_count": 63,
   "metadata": {
    "collapsed": true
   },
   "outputs": [],
   "source": [
    "mask = tobs_jan_00_flat.mask\n",
    "tobs_jan_00_flat_true = np.array(tobs_jan_00_flat)[~mask]\n",
    "tfc_jan_00_flat_true = np.array(tfc_jan_00_flat)[:, ~mask]"
   ]
  },
  {
   "cell_type": "code",
   "execution_count": 64,
   "metadata": {},
   "outputs": [
    {
     "data": {
      "text/plain": [
       "array([ True,  True,  True, ...,  True,  True,  True], dtype=bool)"
      ]
     },
     "execution_count": 64,
     "metadata": {},
     "output_type": "execute_result"
    }
   ],
   "source": [
    "np.isfinite(tobs_jan_00_flat_true)"
   ]
  },
  {
   "cell_type": "code",
   "execution_count": 65,
   "metadata": {},
   "outputs": [
    {
     "data": {
      "text/plain": [
       "(50, 152109)"
      ]
     },
     "execution_count": 65,
     "metadata": {},
     "output_type": "execute_result"
    }
   ],
   "source": [
    "tfc_jan_00_flat_true.shape"
   ]
  },
  {
   "cell_type": "code",
   "execution_count": 66,
   "metadata": {},
   "outputs": [
    {
     "data": {
      "text/plain": [
       "1.3615713879597848"
      ]
     },
     "execution_count": 66,
     "metadata": {},
     "output_type": "execute_result"
    }
   ],
   "source": [
    "enstools.scores.crps_sample(tobs_jan_00_flat_true, tfc_jan_00_flat_true, mean=True)"
   ]
  },
  {
   "cell_type": "code",
   "execution_count": null,
   "metadata": {
    "collapsed": true
   },
   "outputs": [],
   "source": []
  }
 ],
 "metadata": {
  "kernelspec": {
   "display_name": "Python 3",
   "language": "python",
   "name": "python3"
  },
  "language_info": {
   "codemirror_mode": {
    "name": "ipython",
    "version": 3
   },
   "file_extension": ".py",
   "mimetype": "text/x-python",
   "name": "python",
   "nbconvert_exporter": "python",
   "pygments_lexer": "ipython3",
   "version": "3.6.2"
  },
  "toc": {
   "nav_menu": {},
   "number_sections": true,
   "sideBar": true,
   "skip_h1_title": true,
   "toc_cell": true,
   "toc_position": {},
   "toc_section_display": "block",
   "toc_window_display": false
  },
  "pycharm": {
   "stem_cell": {
    "cell_type": "raw",
    "source": [],
    "metadata": {
     "collapsed": false
    }
   }
  }
 },
 "nbformat": 4,
 "nbformat_minor": 2
}